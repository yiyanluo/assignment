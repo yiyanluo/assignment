{
 "cells": [
  {
   "cell_type": "markdown",
   "metadata": {},
   "source": [
    "# Exam\n",
    "\n",
    "In this exam, we will work with the \"frequently requested health data” from the OECD.\n",
    "Your task is to compute a simple “efficiency score” and make three plots. \n",
    "NAME: Yiyan Student number: 2003520\n",
    "\n",
    "\n",
    "You will earn a higher grade if you provide nicer graphs.  \n"
   ]
  },
  {
   "cell_type": "markdown",
   "metadata": {},
   "source": [
    "name:yiyan luo snr 2003520"
   ]
  },
  {
   "cell_type": "markdown",
   "metadata": {},
   "source": [
    "Now you need to call the libaries\n",
    "\n",
    "* ggplot2\n",
    "* dplyr\n",
    "\n"
   ]
  },
  {
   "cell_type": "code",
   "execution_count": 22,
   "metadata": {
    "collapsed": false
   },
   "outputs": [],
   "source": [
    "library(ggplot2)\n",
    "library(dplyr)"
   ]
  },
  {
   "cell_type": "markdown",
   "metadata": {},
   "source": [
    "Call libaries"
   ]
  },
  {
   "cell_type": "markdown",
   "metadata": {},
   "source": [
    "Now you have to read the de data that we have cleaned during tutorial 3. The csv file is called oecddata.csv"
   ]
  },
  {
   "cell_type": "code",
   "execution_count": 23,
   "metadata": {
    "collapsed": true
   },
   "outputs": [],
   "source": [
    "oecd <- read.csv2(\"oecddata.csv\")"
   ]
  },
  {
   "cell_type": "markdown",
   "metadata": {},
   "source": [
    "Read the data and give the name(oecd) for the data."
   ]
  },
  {
   "cell_type": "markdown",
   "metadata": {},
   "source": [
    "To see how the data look like, use the command:\n",
    "\n",
    "head(oecd)\n",
    "\n",
    "With the command\n",
    "\n",
    "oecd\n",
    "\n",
    "\n",
    "You can see the dataset in total."
   ]
  },
  {
   "cell_type": "code",
   "execution_count": 24,
   "metadata": {
    "collapsed": false
   },
   "outputs": [
    {
     "data": {
      "text/html": [
       "<table>\n",
       "<thead><tr><th scope=col>X</th><th scope=col>Country</th><th scope=col>Year</th><th scope=col>Cost</th><th scope=col>LE</th></tr></thead>\n",
       "<tbody>\n",
       "\t<tr><td>1        </td><td>Australia</td><td>2005     </td><td>2842.132 </td><td>80.9     </td></tr>\n",
       "\t<tr><td>2        </td><td>Australia</td><td>2006     </td><td>3023.098 </td><td>81.1     </td></tr>\n",
       "\t<tr><td>3        </td><td>Australia</td><td>2007     </td><td>3196.226 </td><td>81.4     </td></tr>\n",
       "\t<tr><td>4        </td><td>Australia</td><td>2008     </td><td>3310.171 </td><td>81.5     </td></tr>\n",
       "\t<tr><td>5        </td><td>Australia</td><td>2009     </td><td>3564.405 </td><td>81.6     </td></tr>\n",
       "\t<tr><td>6        </td><td>Australia</td><td>2010     </td><td>3607.341 </td><td>81.8     </td></tr>\n",
       "</tbody>\n",
       "</table>\n"
      ],
      "text/latex": [
       "\\begin{tabular}{r|lllll}\n",
       " X & Country & Year & Cost & LE\\\\\n",
       "\\hline\n",
       "\t 1         & Australia & 2005      & 2842.132  & 80.9     \\\\\n",
       "\t 2         & Australia & 2006      & 3023.098  & 81.1     \\\\\n",
       "\t 3         & Australia & 2007      & 3196.226  & 81.4     \\\\\n",
       "\t 4         & Australia & 2008      & 3310.171  & 81.5     \\\\\n",
       "\t 5         & Australia & 2009      & 3564.405  & 81.6     \\\\\n",
       "\t 6         & Australia & 2010      & 3607.341  & 81.8     \\\\\n",
       "\\end{tabular}\n"
      ],
      "text/markdown": [
       "\n",
       "X | Country | Year | Cost | LE | \n",
       "|---|---|---|---|---|---|\n",
       "| 1         | Australia | 2005      | 2842.132  | 80.9      | \n",
       "| 2         | Australia | 2006      | 3023.098  | 81.1      | \n",
       "| 3         | Australia | 2007      | 3196.226  | 81.4      | \n",
       "| 4         | Australia | 2008      | 3310.171  | 81.5      | \n",
       "| 5         | Australia | 2009      | 3564.405  | 81.6      | \n",
       "| 6         | Australia | 2010      | 3607.341  | 81.8      | \n",
       "\n",
       "\n"
      ],
      "text/plain": [
       "  X Country   Year Cost     LE  \n",
       "1 1 Australia 2005 2842.132 80.9\n",
       "2 2 Australia 2006 3023.098 81.1\n",
       "3 3 Australia 2007 3196.226 81.4\n",
       "4 4 Australia 2008 3310.171 81.5\n",
       "5 5 Australia 2009 3564.405 81.6\n",
       "6 6 Australia 2010 3607.341 81.8"
      ]
     },
     "metadata": {},
     "output_type": "display_data"
    }
   ],
   "source": [
    "head(oecd)"
   ]
  },
  {
   "cell_type": "markdown",
   "metadata": {},
   "source": [
    "## Graphs"
   ]
  },
  {
   "cell_type": "markdown",
   "metadata": {},
   "source": [
    "To make the graphs we need to make selections of the data. Please use \"dplyr\" (commands \"select\" and \"filter\") and the \"pipe\". The first assignment is to make a scatterplot using \"ggplot\". The graph contains data for all countries for the year 2014. Therefore make a dataframe with dplyr first, called \"graph1\" with the required data.\n",
    "Then, make a scatterplot with \"Cost\" on the x-axis and \"LE\" on the y-axis. You have to add a regression line with a shaded area for the confidence interval."
   ]
  },
  {
   "cell_type": "code",
   "execution_count": 25,
   "metadata": {
    "collapsed": false
   },
   "outputs": [
    {
     "data": {
      "text/html": [
       "<table>\n",
       "<thead><tr><th scope=col>X</th><th scope=col>Country</th><th scope=col>Year</th><th scope=col>Cost</th><th scope=col>LE</th></tr></thead>\n",
       "<tbody>\n",
       "\t<tr><td> 10            </td><td>Australia      </td><td>2014           </td><td>4206.8516      </td><td>82.4           </td></tr>\n",
       "\t<tr><td> 21            </td><td>Austria        </td><td>2014           </td><td>4895.9992      </td><td>81.6           </td></tr>\n",
       "\t<tr><td> 32            </td><td>Belgium        </td><td>2014           </td><td>4522.0450      </td><td>81.4           </td></tr>\n",
       "\t<tr><td> 43            </td><td>Canada         </td><td>2014           </td><td>4491.7648      </td><td>  NA           </td></tr>\n",
       "\t<tr><td> 54            </td><td>Chile          </td><td>2014           </td><td>1688.5233      </td><td>79.0           </td></tr>\n",
       "\t<tr><td> 65            </td><td>Czech Republic </td><td>2014           </td><td>2386.3385      </td><td>78.9           </td></tr>\n",
       "\t<tr><td> 76            </td><td>Denmark        </td><td>2014           </td><td>4857.0285      </td><td>80.8           </td></tr>\n",
       "\t<tr><td> 87            </td><td>Estonia        </td><td>2014           </td><td>1724.5100      </td><td>77.2           </td></tr>\n",
       "\t<tr><td> 98            </td><td>Finland        </td><td>2014           </td><td>3870.4000      </td><td>81.3           </td></tr>\n",
       "\t<tr><td>109            </td><td>France         </td><td>2014           </td><td>4366.9864      </td><td>82.8           </td></tr>\n",
       "\t<tr><td>120            </td><td>Germany        </td><td>2014           </td><td>5119.2146      </td><td>81.2           </td></tr>\n",
       "\t<tr><td>131            </td><td>Greece         </td><td>2014           </td><td>2220.1065      </td><td>81.5           </td></tr>\n",
       "\t<tr><td>142            </td><td>Hungary        </td><td>2014           </td><td>1796.6034      </td><td>75.9           </td></tr>\n",
       "\t<tr><td>153            </td><td>Iceland        </td><td>2014           </td><td>3896.9251      </td><td>82.9           </td></tr>\n",
       "\t<tr><td>164            </td><td>Ireland        </td><td>2014           </td><td>5001.3220      </td><td>81.4           </td></tr>\n",
       "\t<tr><td>175            </td><td>Israel         </td><td>2014           </td><td>2547.4010      </td><td>82.2           </td></tr>\n",
       "\t<tr><td>186            </td><td>Italy          </td><td>2014           </td><td>3206.8286      </td><td>83.2           </td></tr>\n",
       "\t<tr><td>197            </td><td>Japan          </td><td>2014           </td><td>4152.3727      </td><td>83.7           </td></tr>\n",
       "\t<tr><td>208            </td><td>Korea          </td><td>2014           </td><td>2361.4400      </td><td>82.2           </td></tr>\n",
       "\t<tr><td>219            </td><td>Latvia         </td><td>2014           </td><td>1295.0128      </td><td>74.3           </td></tr>\n",
       "\t<tr><td>230            </td><td>Luxembourg     </td><td>2014           </td><td>6682.2370      </td><td>82.3           </td></tr>\n",
       "\t<tr><td>241            </td><td>Mexico         </td><td>2014           </td><td>1035.3389      </td><td>74.8           </td></tr>\n",
       "\t<tr><td>252            </td><td>Netherlands    </td><td>2014           </td><td>5276.6003      </td><td>81.8           </td></tr>\n",
       "\t<tr><td>263            </td><td>New Zealand    </td><td>2014           </td><td>3537.2568      </td><td>81.6           </td></tr>\n",
       "\t<tr><td>274            </td><td>Norway         </td><td>2014           </td><td>6080.9980      </td><td>82.2           </td></tr>\n",
       "\t<tr><td>285            </td><td>Poland         </td><td>2014           </td><td>1624.8655      </td><td>77.7           </td></tr>\n",
       "\t<tr><td>296            </td><td>Portugal       </td><td>2014           </td><td>2583.8438      </td><td>81.2           </td></tr>\n",
       "\t<tr><td>307            </td><td>Slovak Republic</td><td>2014           </td><td>1970.5230      </td><td>76.9           </td></tr>\n",
       "\t<tr><td>318            </td><td>Slovenia       </td><td>2014           </td><td>2598.9066      </td><td>81.2           </td></tr>\n",
       "\t<tr><td>329            </td><td>Spain          </td><td>2014           </td><td>3053.0745      </td><td>83.3           </td></tr>\n",
       "\t<tr><td>340            </td><td>Sweden         </td><td>2014           </td><td>5065.1613      </td><td>82.3           </td></tr>\n",
       "\t<tr><td>351            </td><td>Switzerland    </td><td>2014           </td><td>6786.5657      </td><td>83.3           </td></tr>\n",
       "\t<tr><td>362            </td><td>Turkey         </td><td>2014           </td><td> 990.1908      </td><td>78.0           </td></tr>\n",
       "\t<tr><td>373            </td><td>United Kingdom </td><td>2014           </td><td>3971.3940      </td><td>81.4           </td></tr>\n",
       "\t<tr><td>384            </td><td>United States  </td><td>2014           </td><td>9024.2064      </td><td>78.8           </td></tr>\n",
       "</tbody>\n",
       "</table>\n"
      ],
      "text/latex": [
       "\\begin{tabular}{r|lllll}\n",
       " X & Country & Year & Cost & LE\\\\\n",
       "\\hline\n",
       "\t  10             & Australia       & 2014            & 4206.8516       & 82.4           \\\\\n",
       "\t  21             & Austria         & 2014            & 4895.9992       & 81.6           \\\\\n",
       "\t  32             & Belgium         & 2014            & 4522.0450       & 81.4           \\\\\n",
       "\t  43             & Canada          & 2014            & 4491.7648       &   NA           \\\\\n",
       "\t  54             & Chile           & 2014            & 1688.5233       & 79.0           \\\\\n",
       "\t  65             & Czech Republic  & 2014            & 2386.3385       & 78.9           \\\\\n",
       "\t  76             & Denmark         & 2014            & 4857.0285       & 80.8           \\\\\n",
       "\t  87             & Estonia         & 2014            & 1724.5100       & 77.2           \\\\\n",
       "\t  98             & Finland         & 2014            & 3870.4000       & 81.3           \\\\\n",
       "\t 109             & France          & 2014            & 4366.9864       & 82.8           \\\\\n",
       "\t 120             & Germany         & 2014            & 5119.2146       & 81.2           \\\\\n",
       "\t 131             & Greece          & 2014            & 2220.1065       & 81.5           \\\\\n",
       "\t 142             & Hungary         & 2014            & 1796.6034       & 75.9           \\\\\n",
       "\t 153             & Iceland         & 2014            & 3896.9251       & 82.9           \\\\\n",
       "\t 164             & Ireland         & 2014            & 5001.3220       & 81.4           \\\\\n",
       "\t 175             & Israel          & 2014            & 2547.4010       & 82.2           \\\\\n",
       "\t 186             & Italy           & 2014            & 3206.8286       & 83.2           \\\\\n",
       "\t 197             & Japan           & 2014            & 4152.3727       & 83.7           \\\\\n",
       "\t 208             & Korea           & 2014            & 2361.4400       & 82.2           \\\\\n",
       "\t 219             & Latvia          & 2014            & 1295.0128       & 74.3           \\\\\n",
       "\t 230             & Luxembourg      & 2014            & 6682.2370       & 82.3           \\\\\n",
       "\t 241             & Mexico          & 2014            & 1035.3389       & 74.8           \\\\\n",
       "\t 252             & Netherlands     & 2014            & 5276.6003       & 81.8           \\\\\n",
       "\t 263             & New Zealand     & 2014            & 3537.2568       & 81.6           \\\\\n",
       "\t 274             & Norway          & 2014            & 6080.9980       & 82.2           \\\\\n",
       "\t 285             & Poland          & 2014            & 1624.8655       & 77.7           \\\\\n",
       "\t 296             & Portugal        & 2014            & 2583.8438       & 81.2           \\\\\n",
       "\t 307             & Slovak Republic & 2014            & 1970.5230       & 76.9           \\\\\n",
       "\t 318             & Slovenia        & 2014            & 2598.9066       & 81.2           \\\\\n",
       "\t 329             & Spain           & 2014            & 3053.0745       & 83.3           \\\\\n",
       "\t 340             & Sweden          & 2014            & 5065.1613       & 82.3           \\\\\n",
       "\t 351             & Switzerland     & 2014            & 6786.5657       & 83.3           \\\\\n",
       "\t 362             & Turkey          & 2014            &  990.1908       & 78.0           \\\\\n",
       "\t 373             & United Kingdom  & 2014            & 3971.3940       & 81.4           \\\\\n",
       "\t 384             & United States   & 2014            & 9024.2064       & 78.8           \\\\\n",
       "\\end{tabular}\n"
      ],
      "text/markdown": [
       "\n",
       "X | Country | Year | Cost | LE | \n",
       "|---|---|---|---|---|---|---|---|---|---|---|---|---|---|---|---|---|---|---|---|---|---|---|---|---|---|---|---|---|---|---|---|---|---|---|\n",
       "|  10             | Australia       | 2014            | 4206.8516       | 82.4            | \n",
       "|  21             | Austria         | 2014            | 4895.9992       | 81.6            | \n",
       "|  32             | Belgium         | 2014            | 4522.0450       | 81.4            | \n",
       "|  43             | Canada          | 2014            | 4491.7648       |   NA            | \n",
       "|  54             | Chile           | 2014            | 1688.5233       | 79.0            | \n",
       "|  65             | Czech Republic  | 2014            | 2386.3385       | 78.9            | \n",
       "|  76             | Denmark         | 2014            | 4857.0285       | 80.8            | \n",
       "|  87             | Estonia         | 2014            | 1724.5100       | 77.2            | \n",
       "|  98             | Finland         | 2014            | 3870.4000       | 81.3            | \n",
       "| 109             | France          | 2014            | 4366.9864       | 82.8            | \n",
       "| 120             | Germany         | 2014            | 5119.2146       | 81.2            | \n",
       "| 131             | Greece          | 2014            | 2220.1065       | 81.5            | \n",
       "| 142             | Hungary         | 2014            | 1796.6034       | 75.9            | \n",
       "| 153             | Iceland         | 2014            | 3896.9251       | 82.9            | \n",
       "| 164             | Ireland         | 2014            | 5001.3220       | 81.4            | \n",
       "| 175             | Israel          | 2014            | 2547.4010       | 82.2            | \n",
       "| 186             | Italy           | 2014            | 3206.8286       | 83.2            | \n",
       "| 197             | Japan           | 2014            | 4152.3727       | 83.7            | \n",
       "| 208             | Korea           | 2014            | 2361.4400       | 82.2            | \n",
       "| 219             | Latvia          | 2014            | 1295.0128       | 74.3            | \n",
       "| 230             | Luxembourg      | 2014            | 6682.2370       | 82.3            | \n",
       "| 241             | Mexico          | 2014            | 1035.3389       | 74.8            | \n",
       "| 252             | Netherlands     | 2014            | 5276.6003       | 81.8            | \n",
       "| 263             | New Zealand     | 2014            | 3537.2568       | 81.6            | \n",
       "| 274             | Norway          | 2014            | 6080.9980       | 82.2            | \n",
       "| 285             | Poland          | 2014            | 1624.8655       | 77.7            | \n",
       "| 296             | Portugal        | 2014            | 2583.8438       | 81.2            | \n",
       "| 307             | Slovak Republic | 2014            | 1970.5230       | 76.9            | \n",
       "| 318             | Slovenia        | 2014            | 2598.9066       | 81.2            | \n",
       "| 329             | Spain           | 2014            | 3053.0745       | 83.3            | \n",
       "| 340             | Sweden          | 2014            | 5065.1613       | 82.3            | \n",
       "| 351             | Switzerland     | 2014            | 6786.5657       | 83.3            | \n",
       "| 362             | Turkey          | 2014            |  990.1908       | 78.0            | \n",
       "| 373             | United Kingdom  | 2014            | 3971.3940       | 81.4            | \n",
       "| 384             | United States   | 2014            | 9024.2064       | 78.8            | \n",
       "\n",
       "\n"
      ],
      "text/plain": [
       "   X   Country         Year Cost      LE  \n",
       "1   10 Australia       2014 4206.8516 82.4\n",
       "2   21 Austria         2014 4895.9992 81.6\n",
       "3   32 Belgium         2014 4522.0450 81.4\n",
       "4   43 Canada          2014 4491.7648   NA\n",
       "5   54 Chile           2014 1688.5233 79.0\n",
       "6   65 Czech Republic  2014 2386.3385 78.9\n",
       "7   76 Denmark         2014 4857.0285 80.8\n",
       "8   87 Estonia         2014 1724.5100 77.2\n",
       "9   98 Finland         2014 3870.4000 81.3\n",
       "10 109 France          2014 4366.9864 82.8\n",
       "11 120 Germany         2014 5119.2146 81.2\n",
       "12 131 Greece          2014 2220.1065 81.5\n",
       "13 142 Hungary         2014 1796.6034 75.9\n",
       "14 153 Iceland         2014 3896.9251 82.9\n",
       "15 164 Ireland         2014 5001.3220 81.4\n",
       "16 175 Israel          2014 2547.4010 82.2\n",
       "17 186 Italy           2014 3206.8286 83.2\n",
       "18 197 Japan           2014 4152.3727 83.7\n",
       "19 208 Korea           2014 2361.4400 82.2\n",
       "20 219 Latvia          2014 1295.0128 74.3\n",
       "21 230 Luxembourg      2014 6682.2370 82.3\n",
       "22 241 Mexico          2014 1035.3389 74.8\n",
       "23 252 Netherlands     2014 5276.6003 81.8\n",
       "24 263 New Zealand     2014 3537.2568 81.6\n",
       "25 274 Norway          2014 6080.9980 82.2\n",
       "26 285 Poland          2014 1624.8655 77.7\n",
       "27 296 Portugal        2014 2583.8438 81.2\n",
       "28 307 Slovak Republic 2014 1970.5230 76.9\n",
       "29 318 Slovenia        2014 2598.9066 81.2\n",
       "30 329 Spain           2014 3053.0745 83.3\n",
       "31 340 Sweden          2014 5065.1613 82.3\n",
       "32 351 Switzerland     2014 6786.5657 83.3\n",
       "33 362 Turkey          2014  990.1908 78.0\n",
       "34 373 United Kingdom  2014 3971.3940 81.4\n",
       "35 384 United States   2014 9024.2064 78.8"
      ]
     },
     "metadata": {},
     "output_type": "display_data"
    }
   ],
   "source": [
    "graph1 <- oecd %>%\n",
    "select(X, Country, Year, Cost, LE) %>%\n",
    "filter(Year==2014)\n",
    "\n",
    "graph1"
   ]
  },
  {
   "cell_type": "markdown",
   "metadata": {},
   "source": [
    "select(X, Country, Year, Cost, LE) %>% filter(Year==2014) Select data in 2014."
   ]
  },
  {
   "cell_type": "code",
   "execution_count": 26,
   "metadata": {
    "collapsed": false
   },
   "outputs": [
    {
     "name": "stderr",
     "output_type": "stream",
     "text": [
      "Warning message:\n",
      "\"Removed 1 rows containing non-finite values (stat_smooth).\"Warning message:\n",
      "\"Removed 1 rows containing missing values (geom_point).\""
     ]
    },
    {
     "data": {},
     "metadata": {},
     "output_type": "display_data"
    },
    {
     "data": {
      "image/png": "[encoded data removed]",
      "text/plain": [
       "plot without title"
      ]
     },
     "metadata": {},
     "output_type": "display_data"
    }
   ],
   "source": [
    "ggplot(graph1, aes(x=Cost, y=LE)) + geom_point() + geom_smooth(method=lm) + xlab(\"Cost\") + ylab(\"LE\")"
   ]
  },
  {
   "cell_type": "markdown",
   "metadata": {},
   "source": [
    "Give the graph.\n",
    "geom_point(): Find point in graph.\n",
    "geom_smooth(method=lm): Fina line in graph.\n",
    "aes(x=Cost, y=LE): define what is x-axis and y-axis\n"
   ]
  },
  {
   "cell_type": "markdown",
   "metadata": {},
   "source": [
    "The second assignment is to make a line graph. You will use the years 2005-2015 for 5 countries (you can choose your own countries). Make a new dataframe called graph2 with the required data. Then, make a line graph with \"Year\"  and \"Cost\" on the y-axis. There should be coloured lines per country and a legend attached. "
   ]
  },
  {
   "cell_type": "code",
   "execution_count": 27,
   "metadata": {
    "collapsed": false
   },
   "outputs": [
    {
     "data": {
      "text/html": [
       "<table>\n",
       "<thead><tr><th scope=col>Country</th><th scope=col>Year</th><th scope=col>Cost</th></tr></thead>\n",
       "<tbody>\n",
       "\t<tr><td>Iceland </td><td>2005    </td><td>3294.473</td></tr>\n",
       "\t<tr><td>Iceland </td><td>2006    </td><td>3276.318</td></tr>\n",
       "\t<tr><td>Iceland </td><td>2007    </td><td>3375.670</td></tr>\n",
       "\t<tr><td>Iceland </td><td>2008    </td><td>3628.035</td></tr>\n",
       "\t<tr><td>Iceland </td><td>2009    </td><td>3624.451</td></tr>\n",
       "\t<tr><td>Iceland </td><td>2010    </td><td>3405.986</td></tr>\n",
       "\t<tr><td>Iceland </td><td>2011    </td><td>3420.631</td></tr>\n",
       "\t<tr><td>Iceland </td><td>2012    </td><td>3506.416</td></tr>\n",
       "\t<tr><td>Iceland </td><td>2013    </td><td>3739.450</td></tr>\n",
       "\t<tr><td>Iceland </td><td>2014    </td><td>3896.925</td></tr>\n",
       "\t<tr><td>Iceland </td><td>2015    </td><td>4011.997</td></tr>\n",
       "\t<tr><td>Korea   </td><td>2005    </td><td>1220.081</td></tr>\n",
       "\t<tr><td>Korea   </td><td>2006    </td><td>1406.621</td></tr>\n",
       "\t<tr><td>Korea   </td><td>2007    </td><td>1566.635</td></tr>\n",
       "\t<tr><td>Korea   </td><td>2008    </td><td>1662.969</td></tr>\n",
       "\t<tr><td>Korea   </td><td>2009    </td><td>1791.290</td></tr>\n",
       "\t<tr><td>Korea   </td><td>2010    </td><td>1951.326</td></tr>\n",
       "\t<tr><td>Korea   </td><td>2011    </td><td>2029.664</td></tr>\n",
       "\t<tr><td>Korea   </td><td>2012    </td><td>2131.933</td></tr>\n",
       "\t<tr><td>Korea   </td><td>2013    </td><td>2224.629</td></tr>\n",
       "\t<tr><td>Korea   </td><td>2014    </td><td>2361.440</td></tr>\n",
       "\t<tr><td>Korea   </td><td>2015    </td><td>2487.939</td></tr>\n",
       "\t<tr><td>Portugal</td><td>2005    </td><td>2082.204</td></tr>\n",
       "\t<tr><td>Portugal</td><td>2006    </td><td>2181.005</td></tr>\n",
       "\t<tr><td>Portugal</td><td>2007    </td><td>2286.540</td></tr>\n",
       "\t<tr><td>Portugal</td><td>2008    </td><td>2440.611</td></tr>\n",
       "\t<tr><td>Portugal</td><td>2009    </td><td>2589.160</td></tr>\n",
       "\t<tr><td>Portugal</td><td>2010    </td><td>2645.663</td></tr>\n",
       "\t<tr><td>Portugal</td><td>2011    </td><td>2566.971</td></tr>\n",
       "\t<tr><td>Portugal</td><td>2012    </td><td>2535.728</td></tr>\n",
       "\t<tr><td>Portugal</td><td>2013    </td><td>2538.705</td></tr>\n",
       "\t<tr><td>Portugal</td><td>2014    </td><td>2583.844</td></tr>\n",
       "\t<tr><td>Portugal</td><td>2015    </td><td>2631.350</td></tr>\n",
       "\t<tr><td>Slovenia</td><td>2005    </td><td>1902.672</td></tr>\n",
       "\t<tr><td>Slovenia</td><td>2006    </td><td>2018.350</td></tr>\n",
       "\t<tr><td>Slovenia</td><td>2007    </td><td>2074.310</td></tr>\n",
       "\t<tr><td>Slovenia</td><td>2008    </td><td>2323.273</td></tr>\n",
       "\t<tr><td>Slovenia</td><td>2009    </td><td>2355.023</td></tr>\n",
       "\t<tr><td>Slovenia</td><td>2010    </td><td>2363.669</td></tr>\n",
       "\t<tr><td>Slovenia</td><td>2011    </td><td>2435.084</td></tr>\n",
       "\t<tr><td>Slovenia</td><td>2012    </td><td>2486.614</td></tr>\n",
       "\t<tr><td>Slovenia</td><td>2013    </td><td>2548.682</td></tr>\n",
       "\t<tr><td>Slovenia</td><td>2014    </td><td>2598.907</td></tr>\n",
       "\t<tr><td>Slovenia</td><td>2015    </td><td>2643.846</td></tr>\n",
       "\t<tr><td>Spain   </td><td>2005    </td><td>2139.333</td></tr>\n",
       "\t<tr><td>Spain   </td><td>2006    </td><td>2393.307</td></tr>\n",
       "\t<tr><td>Spain   </td><td>2007    </td><td>2570.706</td></tr>\n",
       "\t<tr><td>Spain   </td><td>2008    </td><td>2795.869</td></tr>\n",
       "\t<tr><td>Spain   </td><td>2009    </td><td>2944.620</td></tr>\n",
       "\t<tr><td>Spain   </td><td>2010    </td><td>2917.950</td></tr>\n",
       "\t<tr><td>Spain   </td><td>2011    </td><td>2956.786</td></tr>\n",
       "\t<tr><td>Spain   </td><td>2012    </td><td>2929.357</td></tr>\n",
       "\t<tr><td>Spain   </td><td>2013    </td><td>2952.175</td></tr>\n",
       "\t<tr><td>Spain   </td><td>2014    </td><td>3053.075</td></tr>\n",
       "\t<tr><td>Spain   </td><td>2015    </td><td>3152.987</td></tr>\n",
       "</tbody>\n",
       "</table>\n"
      ],
      "text/latex": [
       "\\begin{tabular}{r|lll}\n",
       " Country & Year & Cost\\\\\n",
       "\\hline\n",
       "\t Iceland  & 2005     & 3294.473\\\\\n",
       "\t Iceland  & 2006     & 3276.318\\\\\n",
       "\t Iceland  & 2007     & 3375.670\\\\\n",
       "\t Iceland  & 2008     & 3628.035\\\\\n",
       "\t Iceland  & 2009     & 3624.451\\\\\n",
       "\t Iceland  & 2010     & 3405.986\\\\\n",
       "\t Iceland  & 2011     & 3420.631\\\\\n",
       "\t Iceland  & 2012     & 3506.416\\\\\n",
       "\t Iceland  & 2013     & 3739.450\\\\\n",
       "\t Iceland  & 2014     & 3896.925\\\\\n",
       "\t Iceland  & 2015     & 4011.997\\\\\n",
       "\t Korea    & 2005     & 1220.081\\\\\n",
       "\t Korea    & 2006     & 1406.621\\\\\n",
       "\t Korea    & 2007     & 1566.635\\\\\n",
       "\t Korea    & 2008     & 1662.969\\\\\n",
       "\t Korea    & 2009     & 1791.290\\\\\n",
       "\t Korea    & 2010     & 1951.326\\\\\n",
       "\t Korea    & 2011     & 2029.664\\\\\n",
       "\t Korea    & 2012     & 2131.933\\\\\n",
       "\t Korea    & 2013     & 2224.629\\\\\n",
       "\t Korea    & 2014     & 2361.440\\\\\n",
       "\t Korea    & 2015     & 2487.939\\\\\n",
       "\t Portugal & 2005     & 2082.204\\\\\n",
       "\t Portugal & 2006     & 2181.005\\\\\n",
       "\t Portugal & 2007     & 2286.540\\\\\n",
       "\t Portugal & 2008     & 2440.611\\\\\n",
       "\t Portugal & 2009     & 2589.160\\\\\n",
       "\t Portugal & 2010     & 2645.663\\\\\n",
       "\t Portugal & 2011     & 2566.971\\\\\n",
       "\t Portugal & 2012     & 2535.728\\\\\n",
       "\t Portugal & 2013     & 2538.705\\\\\n",
       "\t Portugal & 2014     & 2583.844\\\\\n",
       "\t Portugal & 2015     & 2631.350\\\\\n",
       "\t Slovenia & 2005     & 1902.672\\\\\n",
       "\t Slovenia & 2006     & 2018.350\\\\\n",
       "\t Slovenia & 2007     & 2074.310\\\\\n",
       "\t Slovenia & 2008     & 2323.273\\\\\n",
       "\t Slovenia & 2009     & 2355.023\\\\\n",
       "\t Slovenia & 2010     & 2363.669\\\\\n",
       "\t Slovenia & 2011     & 2435.084\\\\\n",
       "\t Slovenia & 2012     & 2486.614\\\\\n",
       "\t Slovenia & 2013     & 2548.682\\\\\n",
       "\t Slovenia & 2014     & 2598.907\\\\\n",
       "\t Slovenia & 2015     & 2643.846\\\\\n",
       "\t Spain    & 2005     & 2139.333\\\\\n",
       "\t Spain    & 2006     & 2393.307\\\\\n",
       "\t Spain    & 2007     & 2570.706\\\\\n",
       "\t Spain    & 2008     & 2795.869\\\\\n",
       "\t Spain    & 2009     & 2944.620\\\\\n",
       "\t Spain    & 2010     & 2917.950\\\\\n",
       "\t Spain    & 2011     & 2956.786\\\\\n",
       "\t Spain    & 2012     & 2929.357\\\\\n",
       "\t Spain    & 2013     & 2952.175\\\\\n",
       "\t Spain    & 2014     & 3053.075\\\\\n",
       "\t Spain    & 2015     & 3152.987\\\\\n",
       "\\end{tabular}\n"
      ],
      "text/markdown": [
       "\n",
       "Country | Year | Cost | \n",
       "|---|---|---|---|---|---|---|---|---|---|---|---|---|---|---|---|---|---|---|---|---|---|---|---|---|---|---|---|---|---|---|---|---|---|---|---|---|---|---|---|---|---|---|---|---|---|---|---|---|---|---|---|---|---|---|\n",
       "| Iceland  | 2005     | 3294.473 | \n",
       "| Iceland  | 2006     | 3276.318 | \n",
       "| Iceland  | 2007     | 3375.670 | \n",
       "| Iceland  | 2008     | 3628.035 | \n",
       "| Iceland  | 2009     | 3624.451 | \n",
       "| Iceland  | 2010     | 3405.986 | \n",
       "| Iceland  | 2011     | 3420.631 | \n",
       "| Iceland  | 2012     | 3506.416 | \n",
       "| Iceland  | 2013     | 3739.450 | \n",
       "| Iceland  | 2014     | 3896.925 | \n",
       "| Iceland  | 2015     | 4011.997 | \n",
       "| Korea    | 2005     | 1220.081 | \n",
       "| Korea    | 2006     | 1406.621 | \n",
       "| Korea    | 2007     | 1566.635 | \n",
       "| Korea    | 2008     | 1662.969 | \n",
       "| Korea    | 2009     | 1791.290 | \n",
       "| Korea    | 2010     | 1951.326 | \n",
       "| Korea    | 2011     | 2029.664 | \n",
       "| Korea    | 2012     | 2131.933 | \n",
       "| Korea    | 2013     | 2224.629 | \n",
       "| Korea    | 2014     | 2361.440 | \n",
       "| Korea    | 2015     | 2487.939 | \n",
       "| Portugal | 2005     | 2082.204 | \n",
       "| Portugal | 2006     | 2181.005 | \n",
       "| Portugal | 2007     | 2286.540 | \n",
       "| Portugal | 2008     | 2440.611 | \n",
       "| Portugal | 2009     | 2589.160 | \n",
       "| Portugal | 2010     | 2645.663 | \n",
       "| Portugal | 2011     | 2566.971 | \n",
       "| Portugal | 2012     | 2535.728 | \n",
       "| Portugal | 2013     | 2538.705 | \n",
       "| Portugal | 2014     | 2583.844 | \n",
       "| Portugal | 2015     | 2631.350 | \n",
       "| Slovenia | 2005     | 1902.672 | \n",
       "| Slovenia | 2006     | 2018.350 | \n",
       "| Slovenia | 2007     | 2074.310 | \n",
       "| Slovenia | 2008     | 2323.273 | \n",
       "| Slovenia | 2009     | 2355.023 | \n",
       "| Slovenia | 2010     | 2363.669 | \n",
       "| Slovenia | 2011     | 2435.084 | \n",
       "| Slovenia | 2012     | 2486.614 | \n",
       "| Slovenia | 2013     | 2548.682 | \n",
       "| Slovenia | 2014     | 2598.907 | \n",
       "| Slovenia | 2015     | 2643.846 | \n",
       "| Spain    | 2005     | 2139.333 | \n",
       "| Spain    | 2006     | 2393.307 | \n",
       "| Spain    | 2007     | 2570.706 | \n",
       "| Spain    | 2008     | 2795.869 | \n",
       "| Spain    | 2009     | 2944.620 | \n",
       "| Spain    | 2010     | 2917.950 | \n",
       "| Spain    | 2011     | 2956.786 | \n",
       "| Spain    | 2012     | 2929.357 | \n",
       "| Spain    | 2013     | 2952.175 | \n",
       "| Spain    | 2014     | 3053.075 | \n",
       "| Spain    | 2015     | 3152.987 | \n",
       "\n",
       "\n"
      ],
      "text/plain": [
       "   Country  Year Cost    \n",
       "1  Iceland  2005 3294.473\n",
       "2  Iceland  2006 3276.318\n",
       "3  Iceland  2007 3375.670\n",
       "4  Iceland  2008 3628.035\n",
       "5  Iceland  2009 3624.451\n",
       "6  Iceland  2010 3405.986\n",
       "7  Iceland  2011 3420.631\n",
       "8  Iceland  2012 3506.416\n",
       "9  Iceland  2013 3739.450\n",
       "10 Iceland  2014 3896.925\n",
       "11 Iceland  2015 4011.997\n",
       "12 Korea    2005 1220.081\n",
       "13 Korea    2006 1406.621\n",
       "14 Korea    2007 1566.635\n",
       "15 Korea    2008 1662.969\n",
       "16 Korea    2009 1791.290\n",
       "17 Korea    2010 1951.326\n",
       "18 Korea    2011 2029.664\n",
       "19 Korea    2012 2131.933\n",
       "20 Korea    2013 2224.629\n",
       "21 Korea    2014 2361.440\n",
       "22 Korea    2015 2487.939\n",
       "23 Portugal 2005 2082.204\n",
       "24 Portugal 2006 2181.005\n",
       "25 Portugal 2007 2286.540\n",
       "26 Portugal 2008 2440.611\n",
       "27 Portugal 2009 2589.160\n",
       "28 Portugal 2010 2645.663\n",
       "29 Portugal 2011 2566.971\n",
       "30 Portugal 2012 2535.728\n",
       "31 Portugal 2013 2538.705\n",
       "32 Portugal 2014 2583.844\n",
       "33 Portugal 2015 2631.350\n",
       "34 Slovenia 2005 1902.672\n",
       "35 Slovenia 2006 2018.350\n",
       "36 Slovenia 2007 2074.310\n",
       "37 Slovenia 2008 2323.273\n",
       "38 Slovenia 2009 2355.023\n",
       "39 Slovenia 2010 2363.669\n",
       "40 Slovenia 2011 2435.084\n",
       "41 Slovenia 2012 2486.614\n",
       "42 Slovenia 2013 2548.682\n",
       "43 Slovenia 2014 2598.907\n",
       "44 Slovenia 2015 2643.846\n",
       "45 Spain    2005 2139.333\n",
       "46 Spain    2006 2393.307\n",
       "47 Spain    2007 2570.706\n",
       "48 Spain    2008 2795.869\n",
       "49 Spain    2009 2944.620\n",
       "50 Spain    2010 2917.950\n",
       "51 Spain    2011 2956.786\n",
       "52 Spain    2012 2929.357\n",
       "53 Spain    2013 2952.175\n",
       "54 Spain    2014 3053.075\n",
       "55 Spain    2015 3152.987"
      ]
     },
     "metadata": {},
     "output_type": "display_data"
    }
   ],
   "source": [
    "graph2 <- oecd %>%\n",
    "    filter(Country %in% c(\"Korea\", \"Portugal\", \"Spain\", \"Slovenia\", \"Iceland\")) %>%\n",
    "    select(Country, Year, Cost)\n",
    "graph2"
   ]
  },
  {
   "cell_type": "markdown",
   "metadata": {},
   "source": [
    "filter(Country %in% c(\"United States\", \"Turkey\", \"Spain\", \"Slovenia\", \"United Kingdom\"): choose 5 country.\n",
    "    select(Country, Year, Cost): select data"
   ]
  },
  {
   "cell_type": "code",
   "execution_count": 28,
   "metadata": {
    "collapsed": false
   },
   "outputs": [
    {
     "data": {},
     "metadata": {},
     "output_type": "display_data"
    },
    {
     "data": {
      "image/png": "[encoded data removed]",
      "text/plain": [
       "plot without title"
      ]
     },
     "metadata": {},
     "output_type": "display_data"
    }
   ],
   "source": [
    "ggplot(graph2, aes(x=Year, y=Cost, col=Country)) + geom_line()"
   ]
  },
  {
   "cell_type": "markdown",
   "metadata": {},
   "source": [
    "aes(x=Year, y=Cost, col=Country): Define what is x-axis, y-axis and col.\n",
    "geom_line(): apply line in graph"
   ]
  },
  {
   "cell_type": "markdown",
   "metadata": {},
   "source": [
    "## Efficiency scores\n",
    "\n",
    "The last assignment is to compute simple effiency scores. We will use the year 2014 for all countries (i.e. the dataframe \"graph1\").\n",
    "Make a new dateframe called \"eff\" (using graph1). Please use the \"pipe\" to execute to following steps:\n",
    "Select all the variables except the NA's (hint: use na.omit) and create a new column called \"Ratio\" with mutate. Ratio is defined as \"Cost/LE\" (cost per output).\n",
    "Create a new column called \"Score\" with mutate. Score is the ratio per country divided by the lowest ratio in the dataframe.\n",
    "To complete this dataframe order the dataset using \"arrange\" based on score (i.e. lowest Score first).\n",
    "\n",
    "\n",
    "Finally make a bar chart using ggplot. Countries should be on the x-axis and \"Score\" on the y-axis. \n",
    "\n",
    "\n",
    "\n",
    "You can earn extra points if you are able to order the graph based on scores (lowest first, highest last), if you are able to make the x-axis readable, make the bar of the Netherlands red and the other bars blue and/or change the name of the y-axis to \"Efficiency scores according to [your name]\" \n",
    "\n",
    "\n",
    "The figure should like this:\n",
    "\n",
    "![My Figure](eff.png)"
   ]
  },
  {
   "cell_type": "code",
   "execution_count": 29,
   "metadata": {
    "collapsed": false
   },
   "outputs": [
    {
     "data": {
      "text/html": [
       "<table>\n",
       "<thead><tr><th scope=col>Country</th><th scope=col>Year</th><th scope=col>Cost</th><th scope=col>LE</th></tr></thead>\n",
       "<tbody>\n",
       "\t<tr><td>Australia     </td><td>2014          </td><td>4206.852      </td><td>82.4          </td></tr>\n",
       "\t<tr><td>Austria       </td><td>2014          </td><td>4895.999      </td><td>81.6          </td></tr>\n",
       "\t<tr><td>Belgium       </td><td>2014          </td><td>4522.045      </td><td>81.4          </td></tr>\n",
       "\t<tr><td>Chile         </td><td>2014          </td><td>1688.523      </td><td>79.0          </td></tr>\n",
       "\t<tr><td>Czech Republic</td><td>2014          </td><td>2386.338      </td><td>78.9          </td></tr>\n",
       "\t<tr><td>Denmark       </td><td>2014          </td><td>4857.029      </td><td>80.8          </td></tr>\n",
       "</tbody>\n",
       "</table>\n"
      ],
      "text/latex": [
       "\\begin{tabular}{r|llll}\n",
       " Country & Year & Cost & LE\\\\\n",
       "\\hline\n",
       "\t Australia      & 2014           & 4206.852       & 82.4          \\\\\n",
       "\t Austria        & 2014           & 4895.999       & 81.6          \\\\\n",
       "\t Belgium        & 2014           & 4522.045       & 81.4          \\\\\n",
       "\t Chile          & 2014           & 1688.523       & 79.0          \\\\\n",
       "\t Czech Republic & 2014           & 2386.338       & 78.9          \\\\\n",
       "\t Denmark        & 2014           & 4857.029       & 80.8          \\\\\n",
       "\\end{tabular}\n"
      ],
      "text/markdown": [
       "\n",
       "Country | Year | Cost | LE | \n",
       "|---|---|---|---|---|---|\n",
       "| Australia      | 2014           | 4206.852       | 82.4           | \n",
       "| Austria        | 2014           | 4895.999       | 81.6           | \n",
       "| Belgium        | 2014           | 4522.045       | 81.4           | \n",
       "| Chile          | 2014           | 1688.523       | 79.0           | \n",
       "| Czech Republic | 2014           | 2386.338       | 78.9           | \n",
       "| Denmark        | 2014           | 4857.029       | 80.8           | \n",
       "\n",
       "\n"
      ],
      "text/plain": [
       "  Country        Year Cost     LE  \n",
       "1 Australia      2014 4206.852 82.4\n",
       "2 Austria        2014 4895.999 81.6\n",
       "3 Belgium        2014 4522.045 81.4\n",
       "4 Chile          2014 1688.523 79.0\n",
       "5 Czech Republic 2014 2386.338 78.9\n",
       "6 Denmark        2014 4857.029 80.8"
      ]
     },
     "metadata": {},
     "output_type": "display_data"
    }
   ],
   "source": [
    "eff <- graph1 %>%\n",
    "filter(!is.na(LE)) %>%\n",
    "select(Country, Year, Cost, LE)\n",
    "head(eff)"
   ]
  },
  {
   "cell_type": "markdown",
   "metadata": {},
   "source": [
    "filter(!is.na(LE)) %>% select(Country, Year, Cost, LE):find data.\n",
    "head(eff): apply table"
   ]
  },
  {
   "cell_type": "code",
   "execution_count": 30,
   "metadata": {
    "collapsed": false
   },
   "outputs": [
    {
     "data": {
      "text/html": [
       "<table>\n",
       "<thead><tr><th scope=col>Country</th><th scope=col>Year</th><th scope=col>Cost</th><th scope=col>LE</th><th scope=col>Ratio</th></tr></thead>\n",
       "<tbody>\n",
       "\t<tr><td>Australia     </td><td>2014          </td><td>4206.852      </td><td>82.4          </td><td>51.05402      </td></tr>\n",
       "\t<tr><td>Austria       </td><td>2014          </td><td>4895.999      </td><td>81.6          </td><td>59.99999      </td></tr>\n",
       "\t<tr><td>Belgium       </td><td>2014          </td><td>4522.045      </td><td>81.4          </td><td>55.55338      </td></tr>\n",
       "\t<tr><td>Chile         </td><td>2014          </td><td>1688.523      </td><td>79.0          </td><td>21.37371      </td></tr>\n",
       "\t<tr><td>Czech Republic</td><td>2014          </td><td>2386.338      </td><td>78.9          </td><td>30.24510      </td></tr>\n",
       "\t<tr><td>Denmark       </td><td>2014          </td><td>4857.029      </td><td>80.8          </td><td>60.11174      </td></tr>\n",
       "</tbody>\n",
       "</table>\n"
      ],
      "text/latex": [
       "\\begin{tabular}{r|lllll}\n",
       " Country & Year & Cost & LE & Ratio\\\\\n",
       "\\hline\n",
       "\t Australia      & 2014           & 4206.852       & 82.4           & 51.05402      \\\\\n",
       "\t Austria        & 2014           & 4895.999       & 81.6           & 59.99999      \\\\\n",
       "\t Belgium        & 2014           & 4522.045       & 81.4           & 55.55338      \\\\\n",
       "\t Chile          & 2014           & 1688.523       & 79.0           & 21.37371      \\\\\n",
       "\t Czech Republic & 2014           & 2386.338       & 78.9           & 30.24510      \\\\\n",
       "\t Denmark        & 2014           & 4857.029       & 80.8           & 60.11174      \\\\\n",
       "\\end{tabular}\n"
      ],
      "text/markdown": [
       "\n",
       "Country | Year | Cost | LE | Ratio | \n",
       "|---|---|---|---|---|---|\n",
       "| Australia      | 2014           | 4206.852       | 82.4           | 51.05402       | \n",
       "| Austria        | 2014           | 4895.999       | 81.6           | 59.99999       | \n",
       "| Belgium        | 2014           | 4522.045       | 81.4           | 55.55338       | \n",
       "| Chile          | 2014           | 1688.523       | 79.0           | 21.37371       | \n",
       "| Czech Republic | 2014           | 2386.338       | 78.9           | 30.24510       | \n",
       "| Denmark        | 2014           | 4857.029       | 80.8           | 60.11174       | \n",
       "\n",
       "\n"
      ],
      "text/plain": [
       "  Country        Year Cost     LE   Ratio   \n",
       "1 Australia      2014 4206.852 82.4 51.05402\n",
       "2 Austria        2014 4895.999 81.6 59.99999\n",
       "3 Belgium        2014 4522.045 81.4 55.55338\n",
       "4 Chile          2014 1688.523 79.0 21.37371\n",
       "5 Czech Republic 2014 2386.338 78.9 30.24510\n",
       "6 Denmark        2014 4857.029 80.8 60.11174"
      ]
     },
     "metadata": {},
     "output_type": "display_data"
    }
   ],
   "source": [
    "Ratio <- eff %>%\n",
    "mutate(Ratio = (Cost/LE)) %>%\n",
    "select(Country, Year, Cost, LE, Ratio)\n",
    "head(Ratio)"
   ]
  },
  {
   "cell_type": "markdown",
   "metadata": {},
   "source": [
    "mutate(Ratio = (Cost/LE) define function what is ratio. \n",
    "select(Country, Year, Cost, LE, Ratio): select data in table"
   ]
  },
  {
   "cell_type": "code",
   "execution_count": 31,
   "metadata": {
    "collapsed": false
   },
   "outputs": [
    {
     "data": {
      "text/html": [
       "<table>\n",
       "<thead><tr><th scope=col>Country</th><th scope=col>Year</th><th scope=col>Cost</th><th scope=col>LE</th><th scope=col>Ratio</th><th scope=col>Score</th></tr></thead>\n",
       "<tbody>\n",
       "\t<tr><td>United States  </td><td>2014           </td><td>9024.2064      </td><td>78.8           </td><td>114.52039      </td><td>0.1108515      </td></tr>\n",
       "\t<tr><td>Switzerland    </td><td>2014           </td><td>6786.5657      </td><td>83.3           </td><td> 81.47138      </td><td>0.1558186      </td></tr>\n",
       "\t<tr><td>Luxembourg     </td><td>2014           </td><td>6682.2370      </td><td>82.3           </td><td> 81.19365      </td><td>0.1563516      </td></tr>\n",
       "\t<tr><td>Norway         </td><td>2014           </td><td>6080.9980      </td><td>82.2           </td><td> 73.97808      </td><td>0.1716016      </td></tr>\n",
       "\t<tr><td>Netherlands    </td><td>2014           </td><td>5276.6003      </td><td>81.8           </td><td> 64.50612      </td><td>0.1967992      </td></tr>\n",
       "\t<tr><td>Germany        </td><td>2014           </td><td>5119.2146      </td><td>81.2           </td><td> 63.04451      </td><td>0.2013618      </td></tr>\n",
       "\t<tr><td>Sweden         </td><td>2014           </td><td>5065.1613      </td><td>82.3           </td><td> 61.54509      </td><td>0.2062675      </td></tr>\n",
       "\t<tr><td>Ireland        </td><td>2014           </td><td>5001.3220      </td><td>81.4           </td><td> 61.44130      </td><td>0.2066160      </td></tr>\n",
       "\t<tr><td>Denmark        </td><td>2014           </td><td>4857.0285      </td><td>80.8           </td><td> 60.11174      </td><td>0.2111859      </td></tr>\n",
       "\t<tr><td>Austria        </td><td>2014           </td><td>4895.9992      </td><td>81.6           </td><td> 59.99999      </td><td>0.2115793      </td></tr>\n",
       "\t<tr><td>Belgium        </td><td>2014           </td><td>4522.0450      </td><td>81.4           </td><td> 55.55338      </td><td>0.2285145      </td></tr>\n",
       "\t<tr><td>France         </td><td>2014           </td><td>4366.9864      </td><td>82.8           </td><td> 52.74138      </td><td>0.2406982      </td></tr>\n",
       "\t<tr><td>Australia      </td><td>2014           </td><td>4206.8516      </td><td>82.4           </td><td> 51.05402      </td><td>0.2486533      </td></tr>\n",
       "\t<tr><td>Japan          </td><td>2014           </td><td>4152.3727      </td><td>83.7           </td><td> 49.61019      </td><td>0.2558901      </td></tr>\n",
       "\t<tr><td>United Kingdom </td><td>2014           </td><td>3971.3940      </td><td>81.4           </td><td> 48.78862      </td><td>0.2601991      </td></tr>\n",
       "\t<tr><td>Finland        </td><td>2014           </td><td>3870.4000      </td><td>81.3           </td><td> 47.60640      </td><td>0.2666607      </td></tr>\n",
       "\t<tr><td>Iceland        </td><td>2014           </td><td>3896.9251      </td><td>82.9           </td><td> 47.00754      </td><td>0.2700578      </td></tr>\n",
       "\t<tr><td>New Zealand    </td><td>2014           </td><td>3537.2568      </td><td>81.6           </td><td> 43.34874      </td><td>0.2928518      </td></tr>\n",
       "\t<tr><td>Italy          </td><td>2014           </td><td>3206.8286      </td><td>83.2           </td><td> 38.54361      </td><td>0.3293608      </td></tr>\n",
       "\t<tr><td>Spain          </td><td>2014           </td><td>3053.0745      </td><td>83.3           </td><td> 36.65155      </td><td>0.3463633      </td></tr>\n",
       "\t<tr><td>Slovenia       </td><td>2014           </td><td>2598.9066      </td><td>81.2           </td><td> 32.00624      </td><td>0.3966337      </td></tr>\n",
       "\t<tr><td>Portugal       </td><td>2014           </td><td>2583.8438      </td><td>81.2           </td><td> 31.82074      </td><td>0.3989459      </td></tr>\n",
       "\t<tr><td>Israel         </td><td>2014           </td><td>2547.4010      </td><td>82.2           </td><td> 30.99028      </td><td>0.4096366      </td></tr>\n",
       "\t<tr><td>Czech Republic </td><td>2014           </td><td>2386.3385      </td><td>78.9           </td><td> 30.24510      </td><td>0.4197293      </td></tr>\n",
       "\t<tr><td>Korea          </td><td>2014           </td><td>2361.4400      </td><td>82.2           </td><td> 28.72798      </td><td>0.4418951      </td></tr>\n",
       "\t<tr><td>Greece         </td><td>2014           </td><td>2220.1065      </td><td>81.5           </td><td> 27.24057      </td><td>0.4660238      </td></tr>\n",
       "\t<tr><td>Slovak Republic</td><td>2014           </td><td>1970.5230      </td><td>76.9           </td><td> 25.62449      </td><td>0.4954150      </td></tr>\n",
       "\t<tr><td>Hungary        </td><td>2014           </td><td>1796.6034      </td><td>75.9           </td><td> 23.67066      </td><td>0.5363075      </td></tr>\n",
       "\t<tr><td>Estonia        </td><td>2014           </td><td>1724.5100      </td><td>77.2           </td><td> 22.33821      </td><td>0.5682977      </td></tr>\n",
       "\t<tr><td>Chile          </td><td>2014           </td><td>1688.5233      </td><td>79.0           </td><td> 21.37371      </td><td>0.5939424      </td></tr>\n",
       "\t<tr><td>Poland         </td><td>2014           </td><td>1624.8655      </td><td>77.7           </td><td> 20.91204      </td><td>0.6070548      </td></tr>\n",
       "\t<tr><td>Latvia         </td><td>2014           </td><td>1295.0128      </td><td>74.3           </td><td> 17.42951      </td><td>0.7283482      </td></tr>\n",
       "\t<tr><td>Mexico         </td><td>2014           </td><td>1035.3389      </td><td>74.8           </td><td> 13.84143      </td><td>0.9171563      </td></tr>\n",
       "\t<tr><td>Turkey         </td><td>2014           </td><td> 990.1908      </td><td>78.0           </td><td> 12.69475      </td><td>1.0000000      </td></tr>\n",
       "</tbody>\n",
       "</table>\n"
      ],
      "text/latex": [
       "\\begin{tabular}{r|llllll}\n",
       " Country & Year & Cost & LE & Ratio & Score\\\\\n",
       "\\hline\n",
       "\t United States   & 2014            & 9024.2064       & 78.8            & 114.52039       & 0.1108515      \\\\\n",
       "\t Switzerland     & 2014            & 6786.5657       & 83.3            &  81.47138       & 0.1558186      \\\\\n",
       "\t Luxembourg      & 2014            & 6682.2370       & 82.3            &  81.19365       & 0.1563516      \\\\\n",
       "\t Norway          & 2014            & 6080.9980       & 82.2            &  73.97808       & 0.1716016      \\\\\n",
       "\t Netherlands     & 2014            & 5276.6003       & 81.8            &  64.50612       & 0.1967992      \\\\\n",
       "\t Germany         & 2014            & 5119.2146       & 81.2            &  63.04451       & 0.2013618      \\\\\n",
       "\t Sweden          & 2014            & 5065.1613       & 82.3            &  61.54509       & 0.2062675      \\\\\n",
       "\t Ireland         & 2014            & 5001.3220       & 81.4            &  61.44130       & 0.2066160      \\\\\n",
       "\t Denmark         & 2014            & 4857.0285       & 80.8            &  60.11174       & 0.2111859      \\\\\n",
       "\t Austria         & 2014            & 4895.9992       & 81.6            &  59.99999       & 0.2115793      \\\\\n",
       "\t Belgium         & 2014            & 4522.0450       & 81.4            &  55.55338       & 0.2285145      \\\\\n",
       "\t France          & 2014            & 4366.9864       & 82.8            &  52.74138       & 0.2406982      \\\\\n",
       "\t Australia       & 2014            & 4206.8516       & 82.4            &  51.05402       & 0.2486533      \\\\\n",
       "\t Japan           & 2014            & 4152.3727       & 83.7            &  49.61019       & 0.2558901      \\\\\n",
       "\t United Kingdom  & 2014            & 3971.3940       & 81.4            &  48.78862       & 0.2601991      \\\\\n",
       "\t Finland         & 2014            & 3870.4000       & 81.3            &  47.60640       & 0.2666607      \\\\\n",
       "\t Iceland         & 2014            & 3896.9251       & 82.9            &  47.00754       & 0.2700578      \\\\\n",
       "\t New Zealand     & 2014            & 3537.2568       & 81.6            &  43.34874       & 0.2928518      \\\\\n",
       "\t Italy           & 2014            & 3206.8286       & 83.2            &  38.54361       & 0.3293608      \\\\\n",
       "\t Spain           & 2014            & 3053.0745       & 83.3            &  36.65155       & 0.3463633      \\\\\n",
       "\t Slovenia        & 2014            & 2598.9066       & 81.2            &  32.00624       & 0.3966337      \\\\\n",
       "\t Portugal        & 2014            & 2583.8438       & 81.2            &  31.82074       & 0.3989459      \\\\\n",
       "\t Israel          & 2014            & 2547.4010       & 82.2            &  30.99028       & 0.4096366      \\\\\n",
       "\t Czech Republic  & 2014            & 2386.3385       & 78.9            &  30.24510       & 0.4197293      \\\\\n",
       "\t Korea           & 2014            & 2361.4400       & 82.2            &  28.72798       & 0.4418951      \\\\\n",
       "\t Greece          & 2014            & 2220.1065       & 81.5            &  27.24057       & 0.4660238      \\\\\n",
       "\t Slovak Republic & 2014            & 1970.5230       & 76.9            &  25.62449       & 0.4954150      \\\\\n",
       "\t Hungary         & 2014            & 1796.6034       & 75.9            &  23.67066       & 0.5363075      \\\\\n",
       "\t Estonia         & 2014            & 1724.5100       & 77.2            &  22.33821       & 0.5682977      \\\\\n",
       "\t Chile           & 2014            & 1688.5233       & 79.0            &  21.37371       & 0.5939424      \\\\\n",
       "\t Poland          & 2014            & 1624.8655       & 77.7            &  20.91204       & 0.6070548      \\\\\n",
       "\t Latvia          & 2014            & 1295.0128       & 74.3            &  17.42951       & 0.7283482      \\\\\n",
       "\t Mexico          & 2014            & 1035.3389       & 74.8            &  13.84143       & 0.9171563      \\\\\n",
       "\t Turkey          & 2014            &  990.1908       & 78.0            &  12.69475       & 1.0000000      \\\\\n",
       "\\end{tabular}\n"
      ],
      "text/markdown": [
       "\n",
       "Country | Year | Cost | LE | Ratio | Score | \n",
       "|---|---|---|---|---|---|---|---|---|---|---|---|---|---|---|---|---|---|---|---|---|---|---|---|---|---|---|---|---|---|---|---|---|---|\n",
       "| United States   | 2014            | 9024.2064       | 78.8            | 114.52039       | 0.1108515       | \n",
       "| Switzerland     | 2014            | 6786.5657       | 83.3            |  81.47138       | 0.1558186       | \n",
       "| Luxembourg      | 2014            | 6682.2370       | 82.3            |  81.19365       | 0.1563516       | \n",
       "| Norway          | 2014            | 6080.9980       | 82.2            |  73.97808       | 0.1716016       | \n",
       "| Netherlands     | 2014            | 5276.6003       | 81.8            |  64.50612       | 0.1967992       | \n",
       "| Germany         | 2014            | 5119.2146       | 81.2            |  63.04451       | 0.2013618       | \n",
       "| Sweden          | 2014            | 5065.1613       | 82.3            |  61.54509       | 0.2062675       | \n",
       "| Ireland         | 2014            | 5001.3220       | 81.4            |  61.44130       | 0.2066160       | \n",
       "| Denmark         | 2014            | 4857.0285       | 80.8            |  60.11174       | 0.2111859       | \n",
       "| Austria         | 2014            | 4895.9992       | 81.6            |  59.99999       | 0.2115793       | \n",
       "| Belgium         | 2014            | 4522.0450       | 81.4            |  55.55338       | 0.2285145       | \n",
       "| France          | 2014            | 4366.9864       | 82.8            |  52.74138       | 0.2406982       | \n",
       "| Australia       | 2014            | 4206.8516       | 82.4            |  51.05402       | 0.2486533       | \n",
       "| Japan           | 2014            | 4152.3727       | 83.7            |  49.61019       | 0.2558901       | \n",
       "| United Kingdom  | 2014            | 3971.3940       | 81.4            |  48.78862       | 0.2601991       | \n",
       "| Finland         | 2014            | 3870.4000       | 81.3            |  47.60640       | 0.2666607       | \n",
       "| Iceland         | 2014            | 3896.9251       | 82.9            |  47.00754       | 0.2700578       | \n",
       "| New Zealand     | 2014            | 3537.2568       | 81.6            |  43.34874       | 0.2928518       | \n",
       "| Italy           | 2014            | 3206.8286       | 83.2            |  38.54361       | 0.3293608       | \n",
       "| Spain           | 2014            | 3053.0745       | 83.3            |  36.65155       | 0.3463633       | \n",
       "| Slovenia        | 2014            | 2598.9066       | 81.2            |  32.00624       | 0.3966337       | \n",
       "| Portugal        | 2014            | 2583.8438       | 81.2            |  31.82074       | 0.3989459       | \n",
       "| Israel          | 2014            | 2547.4010       | 82.2            |  30.99028       | 0.4096366       | \n",
       "| Czech Republic  | 2014            | 2386.3385       | 78.9            |  30.24510       | 0.4197293       | \n",
       "| Korea           | 2014            | 2361.4400       | 82.2            |  28.72798       | 0.4418951       | \n",
       "| Greece          | 2014            | 2220.1065       | 81.5            |  27.24057       | 0.4660238       | \n",
       "| Slovak Republic | 2014            | 1970.5230       | 76.9            |  25.62449       | 0.4954150       | \n",
       "| Hungary         | 2014            | 1796.6034       | 75.9            |  23.67066       | 0.5363075       | \n",
       "| Estonia         | 2014            | 1724.5100       | 77.2            |  22.33821       | 0.5682977       | \n",
       "| Chile           | 2014            | 1688.5233       | 79.0            |  21.37371       | 0.5939424       | \n",
       "| Poland          | 2014            | 1624.8655       | 77.7            |  20.91204       | 0.6070548       | \n",
       "| Latvia          | 2014            | 1295.0128       | 74.3            |  17.42951       | 0.7283482       | \n",
       "| Mexico          | 2014            | 1035.3389       | 74.8            |  13.84143       | 0.9171563       | \n",
       "| Turkey          | 2014            |  990.1908       | 78.0            |  12.69475       | 1.0000000       | \n",
       "\n",
       "\n"
      ],
      "text/plain": [
       "   Country         Year Cost      LE   Ratio     Score    \n",
       "1  United States   2014 9024.2064 78.8 114.52039 0.1108515\n",
       "2  Switzerland     2014 6786.5657 83.3  81.47138 0.1558186\n",
       "3  Luxembourg      2014 6682.2370 82.3  81.19365 0.1563516\n",
       "4  Norway          2014 6080.9980 82.2  73.97808 0.1716016\n",
       "5  Netherlands     2014 5276.6003 81.8  64.50612 0.1967992\n",
       "6  Germany         2014 5119.2146 81.2  63.04451 0.2013618\n",
       "7  Sweden          2014 5065.1613 82.3  61.54509 0.2062675\n",
       "8  Ireland         2014 5001.3220 81.4  61.44130 0.2066160\n",
       "9  Denmark         2014 4857.0285 80.8  60.11174 0.2111859\n",
       "10 Austria         2014 4895.9992 81.6  59.99999 0.2115793\n",
       "11 Belgium         2014 4522.0450 81.4  55.55338 0.2285145\n",
       "12 France          2014 4366.9864 82.8  52.74138 0.2406982\n",
       "13 Australia       2014 4206.8516 82.4  51.05402 0.2486533\n",
       "14 Japan           2014 4152.3727 83.7  49.61019 0.2558901\n",
       "15 United Kingdom  2014 3971.3940 81.4  48.78862 0.2601991\n",
       "16 Finland         2014 3870.4000 81.3  47.60640 0.2666607\n",
       "17 Iceland         2014 3896.9251 82.9  47.00754 0.2700578\n",
       "18 New Zealand     2014 3537.2568 81.6  43.34874 0.2928518\n",
       "19 Italy           2014 3206.8286 83.2  38.54361 0.3293608\n",
       "20 Spain           2014 3053.0745 83.3  36.65155 0.3463633\n",
       "21 Slovenia        2014 2598.9066 81.2  32.00624 0.3966337\n",
       "22 Portugal        2014 2583.8438 81.2  31.82074 0.3989459\n",
       "23 Israel          2014 2547.4010 82.2  30.99028 0.4096366\n",
       "24 Czech Republic  2014 2386.3385 78.9  30.24510 0.4197293\n",
       "25 Korea           2014 2361.4400 82.2  28.72798 0.4418951\n",
       "26 Greece          2014 2220.1065 81.5  27.24057 0.4660238\n",
       "27 Slovak Republic 2014 1970.5230 76.9  25.62449 0.4954150\n",
       "28 Hungary         2014 1796.6034 75.9  23.67066 0.5363075\n",
       "29 Estonia         2014 1724.5100 77.2  22.33821 0.5682977\n",
       "30 Chile           2014 1688.5233 79.0  21.37371 0.5939424\n",
       "31 Poland          2014 1624.8655 77.7  20.91204 0.6070548\n",
       "32 Latvia          2014 1295.0128 74.3  17.42951 0.7283482\n",
       "33 Mexico          2014 1035.3389 74.8  13.84143 0.9171563\n",
       "34 Turkey          2014  990.1908 78.0  12.69475 1.0000000"
      ]
     },
     "metadata": {},
     "output_type": "display_data"
    }
   ],
   "source": [
    "Score <- Ratio %>%\n",
    "mutate(Score = min(Ratio)/Ratio) %>%\n",
    "arrange(Score) \n",
    "Score"
   ]
  },
  {
   "cell_type": "markdown",
   "metadata": {
    "collapsed": true
   },
   "source": [
    "Make score function and then find the data."
   ]
  },
  {
   "cell_type": "code",
   "execution_count": 35,
   "metadata": {
    "collapsed": false
   },
   "outputs": [
    {
     "data": {},
     "metadata": {},
     "output_type": "display_data"
    },
    {
     "data": {
      "image/png": "[encoded data removed]",
      "text/plain": [
       "plot without title"
      ]
     },
     "metadata": {},
     "output_type": "display_data"
    }
   ],
   "source": [
    "ggplot(Score, aes(x = reorder(Country,Score), y = Score, fill= Country)) +\n",
    "        geom_bar(stat = \"identity\") +\n",
    "        theme(axis.text.x = element_text(angle = 90, hjust = 1))+\n",
    "        scale_fill_manual(values = c(rep(\"blue\",21),rep(\"red\",1),rep(\"blue\",12))) +\n",
    "        guides(fill=FALSE) +\n",
    "        xlab(\"Country\") +\n",
    "        ylab(\"Efficiency scores according to yiyan luo \")"
   ]
  },
  {
   "cell_type": "markdown",
   "metadata": {
    "collapsed": true
   },
   "source": [
    "(Score, aes(x = reorder(Country,Score), y = Score, fill= Country):define what is x-axis, y-axis and data.\n",
    "geom_bar(stat = \"identity\"): use bar chart.\n",
    "scale_fill_manual(values = c(rep(\"blue\",21),rep(\"red\",1),rep(\"blue\",12): make netherlands bar is red and others are blue.\n",
    "theme(axis.text.x = element_text(angle = 90, hjust = 1): make x-axis is readable by rotate country name 90 degrees.\n",
    "xlab(\"Country\")ylab(\"Efficiency scores according to yiyan luo\") change name."
   ]
  },
  {
   "cell_type": "code",
   "execution_count": null,
   "metadata": {
    "collapsed": true
   },
   "outputs": [],
   "source": []
  }
 ],
 "metadata": {
  "anaconda-cloud": {},
  "kernelspec": {
   "display_name": "R",
   "language": "R",
   "name": "ir"
  },
  "language_info": {
   "codemirror_mode": "r",
   "file_extension": ".r",
   "mimetype": "text/x-r-source",
   "name": "R",
   "pygments_lexer": "r",
   "version": "3.3.2"
  }
 },
 "nbformat": 4,
 "nbformat_minor": 1
}
