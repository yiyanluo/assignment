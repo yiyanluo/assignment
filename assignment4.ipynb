{
 "cells": [
  {
   "cell_type": "markdown",
   "metadata": {
    "collapsed": true
   },
   "source": [
    "# Assignment for week 6\n",
    "\n",
    "Use the following table to provide us with\n",
    "\n",
    "|name | exam number|\n",
    "|----|----|\n",
    "|yiyan luo| u816797 snr 2003520|\n",
    "|other group member's name| exam number|"
   ]
  },
  {
   "cell_type": "markdown",
   "metadata": {},
   "source": [
    "You need to read the data of salaries.csv\n",
    "Call the dataframe s.\n",
    "If you get the wrong output (all oberservations per row in one column), please look at the \"separator\" in the csv-file and adjust the read command, to that each observations is in one cell."
   ]
  },
  {
   "cell_type": "code",
   "execution_count": 39,
   "metadata": {
    "collapsed": false
   },
   "outputs": [],
   "source": [
    "s<-read.csv(\"salaries.csv\")"
   ]
  },
  {
   "cell_type": "markdown",
   "metadata": {},
   "source": [
    "Show the data with the command head() "
   ]
  },
  {
   "cell_type": "code",
   "execution_count": 40,
   "metadata": {
    "collapsed": false
   },
   "outputs": [
    {
     "data": {
      "text/html": [
       "<table>\n",
       "<thead><tr><th scope=col>X</th><th scope=col>rank</th><th scope=col>discipline</th><th scope=col>yrs.since.phd</th><th scope=col>yrs.service</th><th scope=col>sex</th><th scope=col>salary</th></tr></thead>\n",
       "<tbody>\n",
       "\t<tr><td>1          </td><td> Prof      </td><td> B         </td><td>19         </td><td>18         </td><td> Male      </td><td>139750     </td></tr>\n",
       "\t<tr><td>2          </td><td> Prof      </td><td> B         </td><td>20         </td><td>16         </td><td> Male      </td><td>173200     </td></tr>\n",
       "\t<tr><td>3          </td><td> AsstProf  </td><td> B         </td><td> 4         </td><td> 3         </td><td> Male      </td><td> 79750     </td></tr>\n",
       "\t<tr><td>4          </td><td> Prof      </td><td> B         </td><td>45         </td><td>39         </td><td> Male      </td><td>115000     </td></tr>\n",
       "\t<tr><td>5          </td><td> Prof      </td><td> B         </td><td>40         </td><td>41         </td><td> Male      </td><td>141500     </td></tr>\n",
       "\t<tr><td>6          </td><td> AssocProf </td><td> B         </td><td> 6         </td><td> 6         </td><td> Male      </td><td> 97000     </td></tr>\n",
       "</tbody>\n",
       "</table>\n"
      ],
      "text/latex": [
       "\\begin{tabular}{r|lllllll}\n",
       " X & rank & discipline & yrs.since.phd & yrs.service & sex & salary\\\\\n",
       "\\hline\n",
       "\t 1           &  Prof       &  B          & 19          & 18          &  Male       & 139750     \\\\\n",
       "\t 2           &  Prof       &  B          & 20          & 16          &  Male       & 173200     \\\\\n",
       "\t 3           &  AsstProf   &  B          &  4          &  3          &  Male       &  79750     \\\\\n",
       "\t 4           &  Prof       &  B          & 45          & 39          &  Male       & 115000     \\\\\n",
       "\t 5           &  Prof       &  B          & 40          & 41          &  Male       & 141500     \\\\\n",
       "\t 6           &  AssocProf  &  B          &  6          &  6          &  Male       &  97000     \\\\\n",
       "\\end{tabular}\n"
      ],
      "text/markdown": [
       "\n",
       "X | rank | discipline | yrs.since.phd | yrs.service | sex | salary | \n",
       "|---|---|---|---|---|---|\n",
       "| 1           |  Prof       |  B          | 19          | 18          |  Male       | 139750      | \n",
       "| 2           |  Prof       |  B          | 20          | 16          |  Male       | 173200      | \n",
       "| 3           |  AsstProf   |  B          |  4          |  3          |  Male       |  79750      | \n",
       "| 4           |  Prof       |  B          | 45          | 39          |  Male       | 115000      | \n",
       "| 5           |  Prof       |  B          | 40          | 41          |  Male       | 141500      | \n",
       "| 6           |  AssocProf  |  B          |  6          |  6          |  Male       |  97000      | \n",
       "\n",
       "\n"
      ],
      "text/plain": [
       "  X rank        discipline yrs.since.phd yrs.service sex    salary\n",
       "1 1  Prof        B         19            18           Male  139750\n",
       "2 2  Prof        B         20            16           Male  173200\n",
       "3 3  AsstProf    B          4             3           Male   79750\n",
       "4 4  Prof        B         45            39           Male  115000\n",
       "5 5  Prof        B         40            41           Male  141500\n",
       "6 6  AssocProf   B          6             6           Male   97000"
      ]
     },
     "metadata": {},
     "output_type": "display_data"
    }
   ],
   "source": [
    "head(s)"
   ]
  },
  {
   "cell_type": "markdown",
   "metadata": {},
   "source": [
    "Show the structure of the dataset with the command str()"
   ]
  },
  {
   "cell_type": "code",
   "execution_count": 41,
   "metadata": {
    "collapsed": false
   },
   "outputs": [
    {
     "name": "stdout",
     "output_type": "stream",
     "text": [
      "'data.frame':\t397 obs. of  7 variables:\n",
      " $ X            : int  1 2 3 4 5 6 7 8 9 10 ...\n",
      " $ rank         : Factor w/ 3 levels \" AssocProf \",..: 3 3 2 3 3 1 3 3 3 3 ...\n",
      " $ discipline   : Factor w/ 2 levels \" A \",\" B \": 2 2 2 2 2 2 2 2 2 2 ...\n",
      " $ yrs.since.phd: int  19 20 4 45 40 6 30 45 21 18 ...\n",
      " $ yrs.service  : int  18 16 3 39 41 6 23 45 20 18 ...\n",
      " $ sex          : Factor w/ 2 levels \" Female \",\" Male \": 2 2 2 2 2 2 2 2 2 1 ...\n",
      " $ salary       : int  139750 173200 79750 115000 141500 97000 175000 147765 119250 129000 ...\n"
     ]
    }
   ],
   "source": [
    "str(s)"
   ]
  },
  {
   "cell_type": "markdown",
   "metadata": {},
   "source": [
    "Change the variable \"salary\" into a numeric variable, with the command as.numeric"
   ]
  },
  {
   "cell_type": "code",
   "execution_count": 43,
   "metadata": {
    "collapsed": false
   },
   "outputs": [],
   "source": [
    "s$salary<-as.numeric(s$salary)\n"
   ]
  },
  {
   "cell_type": "markdown",
   "metadata": {},
   "source": [
    "Show the new structure of the dataset with the command str()"
   ]
  },
  {
   "cell_type": "code",
   "execution_count": 45,
   "metadata": {
    "collapsed": false
   },
   "outputs": [
    {
     "name": "stdout",
     "output_type": "stream",
     "text": [
      "'data.frame':\t397 obs. of  7 variables:\n",
      " $ X            : int  1 2 3 4 5 6 7 8 9 10 ...\n",
      " $ rank         : Factor w/ 3 levels \" AssocProf \",..: 3 3 2 3 3 1 3 3 3 3 ...\n",
      " $ discipline   : Factor w/ 2 levels \" A \",\" B \": 2 2 2 2 2 2 2 2 2 2 ...\n",
      " $ yrs.since.phd: int  19 20 4 45 40 6 30 45 21 18 ...\n",
      " $ yrs.service  : int  18 16 3 39 41 6 23 45 20 18 ...\n",
      " $ sex          : Factor w/ 2 levels \" Female \",\" Male \": 2 2 2 2 2 2 2 2 2 1 ...\n",
      " $ salary       : num  139750 173200 79750 115000 141500 ...\n"
     ]
    }
   ],
   "source": [
    "str(s)"
   ]
  },
  {
   "cell_type": "code",
   "execution_count": null,
   "metadata": {
    "collapsed": true
   },
   "outputs": [],
   "source": []
  }
 ],
 "metadata": {
  "anaconda-cloud": {},
  "kernelspec": {
   "display_name": "R",
   "language": "R",
   "name": "ir"
  },
  "language_info": {
   "codemirror_mode": "r",
   "file_extension": ".r",
   "mimetype": "text/x-r-source",
   "name": "R",
   "pygments_lexer": "r",
   "version": "3.3.2"
  }
 },
 "nbformat": 4,
 "nbformat_minor": 1
}
